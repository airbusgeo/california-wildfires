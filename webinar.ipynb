{
 "cells": [
  {
   "cell_type": "markdown",
   "metadata": {
    "slideshow": {
     "slide_type": "skip"
    }
   },
   "source": [
    "## Imports"
   ]
  },
  {
   "cell_type": "code",
   "execution_count": null,
   "metadata": {
    "slideshow": {
     "slide_type": "skip"
    }
   },
   "outputs": [],
   "source": [
    "# Calculations\n",
    "import math\n",
    "import numpy as np\n",
    "\n",
    "# Requests & Files\n",
    "import re\n",
    "import requests\n",
    "import json\n",
    "import untangle\n",
    "from requests_toolbelt.multipart import decoder\n",
    "\n",
    "# Imagery\n",
    "import cv2\n",
    "import mercantile\n",
    "from moviepy.editor import *\n",
    "\n",
    "# Graphic widget\n",
    "from IPython.display import HTML, clear_output\n",
    "from halo import HaloNotebook as Halo\n",
    "import time # for delivery waiting function"
   ]
  },
  {
   "cell_type": "markdown",
   "metadata": {
    "slideshow": {
     "slide_type": "skip"
    }
   },
   "source": [
    "## Utility functions"
   ]
  },
  {
   "cell_type": "code",
   "execution_count": null,
   "metadata": {
    "slideshow": {
     "slide_type": "skip"
    }
   },
   "outputs": [],
   "source": [
    "# Retrive your API_KEY from config.json\n",
    "def retrieve_apikey():\n",
    "    with open('api_key.txt') as f:\n",
    "         return f.readlines()[0]\n",
    "        \n",
    "# Write a file\n",
    "def log(ext = 'json', **kwargs):\n",
    "    for name, data in kwargs.items():\n",
    "        with open(f'json/{name}.{ext}', 'w') as outfile:\n",
    "            json.dump(data, outfile, sort_keys = True, indent = 4)"
   ]
  },
  {
   "cell_type": "markdown",
   "metadata": {
    "slideshow": {
     "slide_type": "skip"
    }
   },
   "source": [
    "## Imagery functions"
   ]
  },
  {
   "cell_type": "code",
   "execution_count": null,
   "metadata": {
    "slideshow": {
     "slide_type": "skip"
    }
   },
   "outputs": [],
   "source": [
    "# Save image\n",
    "def save_image(image, name):\n",
    "    cv2.imwrite(f'images/{name}', image)\n",
    "\n",
    "def display_saved_image(name, pixel=750):\n",
    "    display(HTML(f'<img style=\"float:left; max-width:{pixel}px; max-height:{pixel}px\" src=\"images/{name}\">'))\n",
    "    \n",
    "# Save and Display an image in notebook\n",
    "def save_and_display_image(image, name, pixel=750):\n",
    "    save_image(image, name)\n",
    "    display_saved_image(name, pixel)\n",
    "\n",
    "# Load image from response buffer\n",
    "def load_image(r):\n",
    "    np_array = np.frombuffer(r.content, np.uint8)\n",
    "    return cv2.imdecode(np_array, cv2.IMREAD_COLOR)\n",
    "\n",
    "# Make .gif : https://github.com/Zulko/moviepy/issues/744\n",
    "def build_gif(filenames, name):\n",
    "    clips = []\n",
    "    fps = 12\n",
    "    seconds = 3.5\n",
    "    padding = .5\n",
    "    padding_start = 0\n",
    "    for filename in filenames:\n",
    "        sequence = [filename for i in range(int(seconds*fps))]\n",
    "        clip = ImageSequenceClip(sequence, fps=fps)\n",
    "        if (padding_start > 0):\n",
    "            clip = clip.set_start(padding_start).crossfadein(padding)\n",
    "        clips.append(clip)\n",
    "        padding_start += clip.duration - padding\n",
    "    final = CompositeVideoClip(clips)\n",
    "    final.write_gif(f'images/{name}.gif', fps=fps)\n",
    "    clear_output()"
   ]
  },
  {
   "cell_type": "markdown",
   "metadata": {
    "slideshow": {
     "slide_type": "skip"
    }
   },
   "source": [
    "## Functions to integrate API data"
   ]
  },
  {
   "cell_type": "code",
   "execution_count": null,
   "metadata": {
    "slideshow": {
     "slide_type": "skip"
    }
   },
   "outputs": [],
   "source": [
    "# Extract xml response (for wmts)\n",
    "def extract_xml(r):\n",
    "    # Convert response to XML\n",
    "    doc = r.content.decode('utf-8')\n",
    "    return untangle.parse(doc)\n",
    "\n",
    "# Extract template url from wmts xml\n",
    "def extract_template(xml):\n",
    "    return xml.Capabilities.Contents.Layer.ResourceURL['template']\n",
    "\n",
    "# Format wmts url template with some parameters\n",
    "def format_template(template, style, projection, zoom, col, row):\n",
    "    formatted_template = re.sub('{[A-z]*}', '{}', template)\n",
    "    return formatted_template.format(style, projection, zoom, col, row)\n",
    "\n",
    "# Build a large tiled image\n",
    "@Halo(text='Loading')\n",
    "def build_large_tile(token, template, zoom, origin, n_tiles):\n",
    "    # Fill the tile matrix\n",
    "    tile_matrix = []\n",
    "    for i in range(n_tiles):\n",
    "        tile_matrix.append([])\n",
    "        row = origin.y + i\n",
    "        for j in range(n_tiles):\n",
    "            col = origin.x + j\n",
    "            # Request one tile\n",
    "            formatted_template = format_template(template, 'rgb', 'EPSG3857', zoom, col, row)\n",
    "            r = requests.get(formatted_template,\n",
    "                headers = {'Authorization':f'Bearer {token}'})\n",
    "            tile = load_image(r)\n",
    "            tile_matrix[i].append(tile)\n",
    "    # Build the image with the tile matrix (concat all tiles)\n",
    "    return cv2.vconcat([cv2.hconcat(h) for h in tile_matrix])\n",
    "\n",
    "# Request images and build gif with date\n",
    "@Halo(text='Building gif...')\n",
    "def request_images_and_build_gif(token, features, zoom, origin, n_tile, name):\n",
    "    filenames = []\n",
    "    last_acquisitionDate = None\n",
    "    i = -1\n",
    "    for f in features:\n",
    "        if (f['properties']['acquisitionDate'][:10] != last_acquisitionDate):\n",
    "            try:\n",
    "                # Template\n",
    "                r = requests.get(f['_links']['wmts']['href'],\n",
    "                         headers={'Authorization':f'Bearer {token}'})\n",
    "                t = extract_template(extract_xml(r))\n",
    "                # Large tile\n",
    "                im = build_large_tile(token, t, zoom, origin, n_tile)\n",
    "                # Write date\n",
    "                last_acquisitionDate = f['properties']['acquisitionDate'][:10]\n",
    "                cv2.rectangle(im,(5, im.shape[0] - 5),(130, im.shape[0] - 35),(255,255,255),-1)\n",
    "                cv2.rectangle(im,(5, im.shape[0] - 5),(130, im.shape[0] - 35),(0,0,0),1)\n",
    "                cv2.putText(im, last_acquisitionDate, (15, im.shape[0] - 15), cv2.FONT_HERSHEY_PLAIN, 1, (0,0,0))\n",
    "                # Save\n",
    "                i += 1\n",
    "                save_image(im, f'forGif/{i}.jpg')\n",
    "                filenames.append(f'images/forGif/{i}.jpg')\n",
    "                print(f'.{i}\\t{last_acquisitionDate}')\n",
    "            except:\n",
    "                pass\n",
    "    build_gif(filenames, name)"
   ]
  },
  {
   "cell_type": "markdown",
   "metadata": {
    "slideshow": {
     "slide_type": "skip"
    }
   },
   "source": [
    "## Pretty print functions"
   ]
  },
  {
   "cell_type": "code",
   "execution_count": null,
   "metadata": {
    "slideshow": {
     "slide_type": "skip"
    }
   },
   "outputs": [],
   "source": [
    "# Result from search request\n",
    "def print_search(r_search):\n",
    "    # Extract the total number of available images from response\n",
    "    nb = int(r_search['totalResults'])\n",
    "    # Print some details\n",
    "    print(f'There are {nb} images available over this location.')\n",
    "    print('index\\t- date\\t\\t\\tconstellation\\tcloud\\tformat')\n",
    "    for i in range(nb):\n",
    "        p = r_search['features'][i]['properties']\n",
    "        print(f\".{i}\\t- {p['acquisitionDate'][:19].replace('T', ' ')}\\t{p['constellation']}\\t\\t{p['cloudCover']}\\t{p['format']}\")\n",
    "\n",
    "# Result from wmts request\n",
    "def print_wmts(xml):\n",
    "    Contents = xml.Capabilities.Contents\n",
    "    # Style\n",
    "    print(f'Styles')\n",
    "    for Style in Contents.Layer.Style :\n",
    "        identifier = Style.ows_Identifier.cdata\n",
    "        default = '(default)' if Style['isDefault'] else ''\n",
    "        print(f'- {identifier} {default}')\n",
    "    # Projections\n",
    "    print('\\nProjection')\n",
    "    for TileMatrixSet in Contents.TileMatrixSet:\n",
    "        title = TileMatrixSet.ows_Title.cdata\n",
    "        identifier = TileMatrixSet.ows_Identifier.cdata\n",
    "        zoom_min = TileMatrixSet.TileMatrix[0].ows_Identifier.cdata\n",
    "        zoom_max = TileMatrixSet.TileMatrix[-1].ows_Identifier.cdata\n",
    "        while len(title) < 40: title += ' ' \n",
    "        print(f'- {title} : id {identifier}, zoom {zoom_min} ~ {zoom_max}')\n",
    "    # Template\n",
    "    template = Contents.Layer.ResourceURL['template']\n",
    "    print(f'\\nTemplate URL\\n{template}')"
   ]
  },
  {
   "cell_type": "markdown",
   "metadata": {
    "slideshow": {
     "slide_type": "slide"
    }
   },
   "source": [
    "# One Atlas Data API\n",
    "- Access **token**\n",
    "- Search for images with **opensearch**\n",
    "- Access tiles with **WMTS** protocol\n",
    "- Access full raw informations with **getBuffer**"
   ]
  },
  {
   "cell_type": "markdown",
   "metadata": {
    "cell_style": "split",
    "slideshow": {
     "slide_type": "slide"
    }
   },
   "source": [
    "# Access Token\n",
    "1. Get your **api_key** at https://data.api.oneatlas.airbus.com/api-keys\n",
    "2. Request an **access_token**"
   ]
  },
  {
   "cell_type": "code",
   "execution_count": null,
   "metadata": {
    "cell_style": "split",
    "slideshow": {
     "slide_type": "fragment"
    }
   },
   "outputs": [],
   "source": [
    "api_key = retrieve_apikey()\n",
    "\n",
    "r = requests.post('https://authenticate.foundation.api.oneatlas.airbus.com/auth/realms/IDP/protocol/openid-connect/token',\n",
    "                  headers={'Content-Type':'application/x-www-form-urlencoded'},\n",
    "                  data={'apikey':api_key, 'grant_type':'api_key', 'client_id':'IDP'})\n",
    "\n",
    "token = r.json()['access_token']\n",
    "\n",
    "print('Success: Access granted !')"
   ]
  },
  {
   "cell_type": "markdown",
   "metadata": {
    "slideshow": {
     "slide_type": "slide"
    }
   },
   "source": [
    "# Search\n",
    "1. Use **opensearch** with custom parameters\n",
    "2. Display image **quicklook**"
   ]
  },
  {
   "cell_type": "markdown",
   "metadata": {
    "slideshow": {
     "slide_type": "subslide"
    }
   },
   "source": [
    "## Opensearch\n",
    "Filter & Sort images\n",
    "- Latitude & Longitude\n",
    "- Satellite : Pléiades or SPOT\n",
    "- Acquisition date\n",
    "- ..."
   ]
  },
  {
   "cell_type": "code",
   "execution_count": null,
   "metadata": {
    "slideshow": {
     "slide_type": "fragment"
    }
   },
   "outputs": [],
   "source": [
    "params = {\n",
    "    'lat': 39.812939, \n",
    "    'lon': -121.402845,\n",
    "    'format':'image/jp2',\n",
    "    'constellation':'PHR',\n",
    "    'acquisitionDate':'[2016,2019[',\n",
    "    'sortBy':'acquisitionDate'\n",
    "}\n",
    "\n",
    "r = requests.get('https://search.oneatlas.geoapi-airbusds.com/api/v1/opensearch',\n",
    "                 headers={'Content-Type':'application/json', 'Authorization':f'Bearer {token}'},\n",
    "                 params=params)\n",
    "\n",
    "r_search = r.json()\n",
    "\n",
    "print_search(r_search)"
   ]
  },
  {
   "cell_type": "markdown",
   "metadata": {
    "slideshow": {
     "slide_type": "subslide"
    }
   },
   "source": [
    "## Quicklook\n",
    "1. Extract image from previous list\n",
    "2. Request the quicklook"
   ]
  },
  {
   "cell_type": "code",
   "execution_count": null,
   "metadata": {
    "slideshow": {
     "slide_type": "fragment"
    }
   },
   "outputs": [],
   "source": [
    "feature = r_search['features'][-1]\n",
    "\n",
    "r = requests.get(feature['_links']['quicklook']['href'],\n",
    "                 headers={'Authorization':f'Bearer {token}'})\n",
    "\n",
    "quicklook = load_image(r)\n",
    "\n",
    "save_and_display_image(quicklook, 'quicklook.jpg')"
   ]
  },
  {
   "cell_type": "markdown",
   "metadata": {
    "slideshow": {
     "slide_type": "slide"
    }
   },
   "source": [
    "# Tiles\n",
    "- Extract **WMTS** parameters\n",
    "- Get **tiles**\n",
    "- Example : create a time comparison (.gif)"
   ]
  },
  {
   "cell_type": "markdown",
   "metadata": {
    "slideshow": {
     "slide_type": "subslide"
    }
   },
   "source": [
    "## WMTS\n",
    "\n",
    "Standard protocol Web Map Tile Service\n",
    "\n",
    "This request returns a **xml**\n",
    "\n",
    "Extracting the template **url** from this xml"
   ]
  },
  {
   "cell_type": "code",
   "execution_count": null,
   "metadata": {
    "slideshow": {
     "slide_type": "fragment"
    }
   },
   "outputs": [],
   "source": [
    "r = requests.get(feature['_links']['wmts']['href'],\n",
    "                 headers={'Authorization':f'Bearer {token}'})\n",
    "\n",
    "xml = extract_xml(r)\n",
    "\n",
    "template = extract_template(xml)\n",
    "\n",
    "print_wmts(xml)"
   ]
  },
  {
   "cell_type": "markdown",
   "metadata": {
    "slideshow": {
     "slide_type": "subslide"
    }
   },
   "source": [
    "## One tile\n",
    "WMTS parameters\n",
    "- style\n",
    "- projection (tile matrix set) : here we choose **WebMercator** projection EPSG:3857\n",
    "- zoom (tile matrix)\n",
    "- column & row\n",
    "\n",
    "Get the tile column & row with our converter https://tceife2-idp-prod-oneatlasdata.appspot.com/guides/oneatlas-data/g-service-view/#get-tiles-for-a-web-mercator-tile-matrix-set\n",
    "\n",
    "Python users can access this with the **mercantile** library "
   ]
  },
  {
   "cell_type": "code",
   "execution_count": null,
   "metadata": {
    "slideshow": {
     "slide_type": "fragment"
    }
   },
   "outputs": [],
   "source": [
    "# Basic parameters\n",
    "style = 'rgb'\n",
    "projection = 'EPSG3857' # WebMercator projection EPSG:3857\n",
    "zoom = 14 # around 10m resolution\n",
    "\n",
    "# Get col & row match lon & lat & zoom according to the WebMercator projection\n",
    "origin = mercantile.tile(params['lon'], params['lat'], zoom)\n",
    "col = origin.x\n",
    "row = origin.y\n",
    "\n",
    "# Format the wmts template\n",
    "formatted_template = format_template(template, style, projection, zoom, col, row)\n",
    "\n",
    "# Request the tile using it\n",
    "r = requests.get(formatted_template,\n",
    "                 headers={'Authorization':f'Bearer {token}'})\n",
    "\n",
    "tile = load_image(r)\n",
    "save_and_display_image(tile, 'tile.jpg')"
   ]
  },
  {
   "cell_type": "markdown",
   "metadata": {
    "slideshow": {
     "slide_type": "subslide"
    }
   },
   "source": [
    "## Large tiled image\n",
    "\n",
    "Request n*n tiles and build a large tiled image\n",
    "\n",
    "Tile size = 256 pixels"
   ]
  },
  {
   "cell_type": "code",
   "execution_count": null,
   "metadata": {
    "slideshow": {
     "slide_type": "fragment"
    }
   },
   "outputs": [],
   "source": [
    "n_tiles = 2 # large image = n*n tiles\n",
    "\n",
    "large_tile = build_large_tile(token, template, zoom, origin, n_tiles)\n",
    "\n",
    "save_and_display_image(large_tile, 'large_tile.jpg')"
   ]
  },
  {
   "cell_type": "markdown",
   "metadata": {
    "slideshow": {
     "slide_type": "subslide"
    }
   },
   "source": [
    "## In time\n",
    "\n",
    "Timelapse of our AOI"
   ]
  },
  {
   "cell_type": "code",
   "execution_count": null,
   "metadata": {
    "slideshow": {
     "slide_type": "fragment"
    }
   },
   "outputs": [],
   "source": [
    "features = r_search['features']\n",
    "\n",
    "request_images_and_build_gif(token, features, zoom, origin, n_tiles, 'in_time')\n",
    "\n",
    "display_saved_image('in_time.gif')"
   ]
  }
 ],
 "metadata": {
  "celltoolbar": "Diaporama",
  "kernelspec": {
   "display_name": "Python 3",
   "language": "python",
   "name": "python3"
  },
  "language_info": {
   "codemirror_mode": {
    "name": "ipython",
    "version": 3
   },
   "file_extension": ".py",
   "mimetype": "text/x-python",
   "name": "python",
   "nbconvert_exporter": "python",
   "pygments_lexer": "ipython3",
   "version": "3.6.5"
  },
  "rise": {
   "theme": "sky"
  }
 },
 "nbformat": 4,
 "nbformat_minor": 4
}
